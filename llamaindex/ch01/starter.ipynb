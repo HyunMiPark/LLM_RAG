{
 "cells": [
  {
   "cell_type": "code",
   "execution_count": 1,
   "id": "9747bd3e",
   "metadata": {},
   "outputs": [],
   "source": [
    "#필요한 모듈 임포트\n",
    "from llama_index.core import VectorStoreIndex, SimpleDirectoryReader"
   ]
  },
  {
   "cell_type": "code",
   "execution_count": 3,
   "id": "d14a1d33",
   "metadata": {},
   "outputs": [
    {
     "name": "stdout",
     "output_type": "stream",
     "text": [
      "OPENAI_API_KEY 설정이 잘 되어있습니다.\n"
     ]
    }
   ],
   "source": [
    "#OPEN API KEY환경설정 확인\n",
    "import os; \n",
    "api_key = os.getenv(\"OPENAI_API_KEY\")\n",
    "\n",
    "if api_key is not None:\n",
    "    print(\"OPENAI_API_KEY 설정이 잘 되어있습니다.\")\n",
    "else:\n",
    "    print(\"OPENAI_API_KEY가 설정되어 있지 않습니다.\")"
   ]
  },
  {
   "cell_type": "code",
   "execution_count": 4,
   "id": "908563a4",
   "metadata": {},
   "outputs": [
    {
     "name": "stderr",
     "output_type": "stream",
     "text": [
      "2025-08-23 13:46:56,616 - INFO - HTTP Request: POST https://api.openai.com/v1/embeddings \"HTTP/1.1 200 OK\"\n"
     ]
    }
   ],
   "source": [
    "#데이터 로드 및 인덱스 생성\n",
    "from llama_index.core import VectorStoreIndex, SimpleDirectoryReader\n",
    "documents = SimpleDirectoryReader(\"data\").load_data()\n",
    "index = VectorStoreIndex.from_documents(documents)"
   ]
  },
  {
   "cell_type": "code",
   "execution_count": 5,
   "id": "04130d5f",
   "metadata": {},
   "outputs": [
    {
     "name": "stderr",
     "output_type": "stream",
     "text": [
      "2025-08-23 13:47:00,887 - INFO - HTTP Request: POST https://api.openai.com/v1/embeddings \"HTTP/1.1 200 OK\"\n",
      "2025-08-23 13:47:02,587 - INFO - HTTP Request: POST https://api.openai.com/v1/chat/completions \"HTTP/1.1 200 OK\"\n"
     ]
    },
    {
     "name": "stdout",
     "output_type": "stream",
     "text": [
      "The author's adolescence was marked by his early interests in writing and programming. He started writing short stories and experimenting with programming on an IBM 1401 computer in 9th grade. Despite struggling with the limitations of the technology at the time, he eventually transitioned to microcomputers, where he found more freedom and flexibility in programming. His fascination with computers led him to convince his father to buy a TRS-80, which became a platform for his early programming projects, including simple games and a word processor. Initially planning to study philosophy in college, he later switched to AI due to his interest sparked by a novel and a documentary featuring intelligent computers.\n"
     ]
    }
   ],
   "source": [
    "#쿼리 엔진 설정 및 실행\n",
    "query_engine = index.as_query_engine()\n",
    "response = query_engine.query(\"작가의 청소년 시절은 어떠했는지 설명해줘\")\n",
    "print(response)"
   ]
  }
 ],
 "metadata": {
  "kernelspec": {
   "display_name": "ch01_env",
   "language": "python",
   "name": "python3"
  },
  "language_info": {
   "codemirror_mode": {
    "name": "ipython",
    "version": 3
   },
   "file_extension": ".py",
   "mimetype": "text/x-python",
   "name": "python",
   "nbconvert_exporter": "python",
   "pygments_lexer": "ipython3",
   "version": "3.12.7"
  }
 },
 "nbformat": 4,
 "nbformat_minor": 5
}
